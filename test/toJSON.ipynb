{
 "cells": [
  {
   "cell_type": "code",
   "execution_count": 18,
   "metadata": {},
   "outputs": [],
   "source": [
    "import pandas as pd\n",
    "import glob\n",
    "\n",
    "# 테스트 파일이 들어있는 파일 경로입니다.\n",
    "a=glob.glob(\"C:\\\\Users\\\\khj00\\\\capstone\\\\test\\\\*.csv\")\n",
    "\n",
    "# 인덱스 번호에 상관없이 파일을 합칩니다.\n",
    "b=pd.concat(map(pd.read_csv, a), ignore_index=True)\n",
    "\n",
    "# 저장할 경로를 넣어줍니다.\n",
    "b.to_json(\"C:\\\\Users\\\\khj00\\\\capstone\\\\test.json\")\n",
    "b.to_csv(\"C:\\\\Users\\\\khj00\\\\capstone\\\\test.csv\")"
   ]
  }
 ],
 "metadata": {
  "interpreter": {
   "hash": "4c909ab8da18769cace4d736ca2ab42ab7be145be1593e90b2145f5fa9522dcf"
  },
  "kernelspec": {
   "display_name": "Python 3.8.6 64-bit",
   "language": "python",
   "name": "python3"
  },
  "language_info": {
   "codemirror_mode": {
    "name": "ipython",
    "version": 3
   },
   "file_extension": ".py",
   "mimetype": "text/x-python",
   "name": "python",
   "nbconvert_exporter": "python",
   "pygments_lexer": "ipython3",
   "version": "3.8.6"
  },
  "orig_nbformat": 4
 },
 "nbformat": 4,
 "nbformat_minor": 2
}
