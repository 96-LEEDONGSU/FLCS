{
 "cells": [
  {
   "cell_type": "code",
   "execution_count": 1,
   "metadata": {},
   "outputs": [
    {
     "name": "stdout",
     "output_type": "stream",
     "text": [
      "c:\\Users\\khj00\\capstone\\FireAnal\\sampleData\n",
      "['0.csv', '1.csv']\n"
     ]
    }
   ],
   "source": [
    "import pandas as pd\n",
    "import numpy as np\n",
    "import os\n",
    "\n",
    "currentpath = os.getcwd()\n",
    "print(currentpath)\n",
    "\n",
    "# 파일들이 있는 폴더명으로 폴더내 파일 목록 확인\n",
    "forders = os.listdir('F:\\JS')\n",
    "print(forders)"
   ]
  },
  {
   "cell_type": "code",
   "execution_count": 2,
   "metadata": {},
   "outputs": [],
   "source": [
    "df_all = pd.DataFrame()\n",
    "for i in range(0,len(forders)):\n",
    "    if forders[i].split('.')[1] == 'csv':\n",
    "        file = forders[i]\n",
    "        df= pd.read_csv(file,encoding='utf-8') \n",
    "        # encoding=\"utf-8-sig\"\n",
    "        df_all = pd.concat([df_all, df])"
   ]
  },
  {
   "cell_type": "code",
   "execution_count": 3,
   "metadata": {},
   "outputs": [
    {
     "data": {
      "text/html": [
       "<div>\n",
       "<style scoped>\n",
       "    .dataframe tbody tr th:only-of-type {\n",
       "        vertical-align: middle;\n",
       "    }\n",
       "\n",
       "    .dataframe tbody tr th {\n",
       "        vertical-align: top;\n",
       "    }\n",
       "\n",
       "    .dataframe thead th {\n",
       "        text-align: right;\n",
       "    }\n",
       "</style>\n",
       "<table border=\"1\" class=\"dataframe\">\n",
       "  <thead>\n",
       "    <tr style=\"text-align: right;\">\n",
       "      <th></th>\n",
       "      <th>Unnamed: 0</th>\n",
       "      <th>cntFire119</th>\n",
       "      <th>cntFireCompletion</th>\n",
       "      <th>cntFireExceptionEnd</th>\n",
       "      <th>cntFireExtinguish</th>\n",
       "      <th>cntFireReport</th>\n",
       "      <th>ctpKorNm</th>\n",
       "      <th>currentPageNo</th>\n",
       "      <th>distinct</th>\n",
       "      <th>dltYn</th>\n",
       "      <th>...</th>\n",
       "      <th>riskTpcd</th>\n",
       "      <th>rows</th>\n",
       "      <th>sggNm</th>\n",
       "      <th>sord</th>\n",
       "      <th>stndaXcrd</th>\n",
       "      <th>stndaYcrd</th>\n",
       "      <th>totalPageCount</th>\n",
       "      <th>totalRecordCount</th>\n",
       "      <th>trnsnYn</th>\n",
       "      <th>wtherLttcId</th>\n",
       "    </tr>\n",
       "  </thead>\n",
       "  <tbody>\n",
       "    <tr>\n",
       "      <th>0</th>\n",
       "      <td>0</td>\n",
       "      <td>0</td>\n",
       "      <td>0</td>\n",
       "      <td>0</td>\n",
       "      <td>0</td>\n",
       "      <td>0</td>\n",
       "      <td>경기도</td>\n",
       "      <td>0</td>\n",
       "      <td>False</td>\n",
       "      <td>NaN</td>\n",
       "      <td>...</td>\n",
       "      <td>0</td>\n",
       "      <td>20</td>\n",
       "      <td>남양주시</td>\n",
       "      <td>ASC</td>\n",
       "      <td>9.729094e+05</td>\n",
       "      <td>1.972397e+06</td>\n",
       "      <td>0</td>\n",
       "      <td>0</td>\n",
       "      <td>N</td>\n",
       "      <td>19432</td>\n",
       "    </tr>\n",
       "    <tr>\n",
       "      <th>0</th>\n",
       "      <td>0</td>\n",
       "      <td>0</td>\n",
       "      <td>0</td>\n",
       "      <td>0</td>\n",
       "      <td>0</td>\n",
       "      <td>0</td>\n",
       "      <td>부산광역시</td>\n",
       "      <td>0</td>\n",
       "      <td>False</td>\n",
       "      <td>NaN</td>\n",
       "      <td>...</td>\n",
       "      <td>0</td>\n",
       "      <td>20</td>\n",
       "      <td>기장군</td>\n",
       "      <td>ASC</td>\n",
       "      <td>1.156195e+06</td>\n",
       "      <td>1.692295e+06</td>\n",
       "      <td>0</td>\n",
       "      <td>0</td>\n",
       "      <td>N</td>\n",
       "      <td>11423</td>\n",
       "    </tr>\n",
       "  </tbody>\n",
       "</table>\n",
       "<p>2 rows × 61 columns</p>\n",
       "</div>"
      ],
      "text/plain": [
       "   Unnamed: 0  cntFire119  cntFireCompletion  cntFireExceptionEnd  \\\n",
       "0           0           0                  0                    0   \n",
       "0           0           0                  0                    0   \n",
       "\n",
       "   cntFireExtinguish  cntFireReport ctpKorNm  currentPageNo  distinct  dltYn  \\\n",
       "0                  0              0      경기도              0     False    NaN   \n",
       "0                  0              0    부산광역시              0     False    NaN   \n",
       "\n",
       "   ...  riskTpcd  rows  sggNm  sord     stndaXcrd     stndaYcrd  \\\n",
       "0  ...         0    20   남양주시   ASC  9.729094e+05  1.972397e+06   \n",
       "0  ...         0    20    기장군   ASC  1.156195e+06  1.692295e+06   \n",
       "\n",
       "   totalPageCount  totalRecordCount  trnsnYn  wtherLttcId  \n",
       "0               0                 0        N        19432  \n",
       "0               0                 0        N        11423  \n",
       "\n",
       "[2 rows x 61 columns]"
      ]
     },
     "execution_count": 3,
     "metadata": {},
     "output_type": "execute_result"
    }
   ],
   "source": [
    "df_all"
   ]
  },
  {
   "cell_type": "code",
   "execution_count": 5,
   "metadata": {},
   "outputs": [],
   "source": [
    "df_all.to_csv(\"samples.csv\", encoding=\"utf-8-sig\")\n",
    "\n",
    "os.chdir(\"F:\\JS\")"
   ]
  }
 ],
 "metadata": {
  "interpreter": {
   "hash": "4c909ab8da18769cace4d736ca2ab42ab7be145be1593e90b2145f5fa9522dcf"
  },
  "kernelspec": {
   "display_name": "Python 3.8.6 64-bit",
   "language": "python",
   "name": "python3"
  },
  "language_info": {
   "codemirror_mode": {
    "name": "ipython",
    "version": 3
   },
   "file_extension": ".py",
   "mimetype": "text/x-python",
   "name": "python",
   "nbconvert_exporter": "python",
   "pygments_lexer": "ipython3",
   "version": "3.8.6"
  },
  "orig_nbformat": 4
 },
 "nbformat": 4,
 "nbformat_minor": 2
}
